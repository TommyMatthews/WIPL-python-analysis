{
 "cells": [
  {
   "cell_type": "markdown",
   "metadata": {},
   "source": [
    "# Variation of phase and power with included morphology for 5.6GHz Bernard"
   ]
  },
  {
   "cell_type": "code",
   "execution_count": 1,
   "metadata": {},
   "outputs": [],
   "source": [
    "from WIPL_python_analysis.SinglePolPlots import SinglePolPlots\n",
    "from WIPL_python_analysis.DualPol import DualPol\n",
    "from WIPL_python_analysis.DictToSinglePolResults import OutputDictToSinglePolResultsConverter as converter\n",
    "import sys\n",
    "import pickle\n",
    "import numpy as np\n",
    "import pandas as pd\n",
    "import matplotlib.pyplot as plt\n",
    "\n",
    "sys.path.append('./')"
   ]
  },
  {
   "cell_type": "code",
   "execution_count": 2,
   "metadata": {},
   "outputs": [],
   "source": [
    "def plot_corrected_rcs(df, title=None):\n",
    "    phi = df['phi']\n",
    "    corrected_rcs = df['Corrected_RCS']\n",
    "    \n",
    "    plt.figure(figsize=(8, 6))\n",
    "    plt.plot(phi, corrected_rcs, label='Corrected RCS')\n",
    "    plt.xlabel('Azimuth (degrees)')\n",
    "    plt.ylabel('Corrected RCS (cm^2)')\n",
    "\n",
    "    if title:\n",
    "        plt.title(title)\n",
    "\n",
    "    plt.legend()\n",
    "    plt.show()"
   ]
  },
  {
   "cell_type": "code",
   "execution_count": 3,
   "metadata": {},
   "outputs": [],
   "source": [
    "BASE_DRIVE_PATH = '/Users/sstk4353/Library/CloudStorage/GoogleDrive-thomas.matthews@ncas.ac.uk/My Drive/WIPL/Bernard_ellipsoid_comparison/'\n",
    "BERNARD_PATH = 'Bernard/'\n",
    "ELLIPSOID_PATH = 'Ellipsoid/'"
   ]
  },
  {
   "cell_type": "code",
   "execution_count": 23,
   "metadata": {},
   "outputs": [],
   "source": [
    "scale = '1000'\n",
    "morpho = 'body_wing'\n",
    "wing_pos_list = ['U','M', 'D']\n",
    "pol_list = ['H', 'V']\n",
    "frequency_name = '560'"
   ]
  },
  {
   "cell_type": "code",
   "execution_count": 24,
   "metadata": {},
   "outputs": [],
   "source": [
    "data_dict = {x : {y: None for y in wing_pos_list} for x in pol_list}\n",
    "ellipsoid_data_dict = {x : None for x in pol_list}"
   ]
  },
  {
   "cell_type": "code",
   "execution_count": 25,
   "metadata": {},
   "outputs": [],
   "source": [
    "for wing_pos in wing_pos_list:\n",
    "    for pol in pol_list:\n",
    "\n",
    "            path = BASE_DRIVE_PATH + BERNARD_PATH + f'parameterised/dict/wing_pos_analysis/Bernard_parameterised_{frequency_name}_{pol}_{wing_pos}_{scale}_{morpho}_p0_s0_dict.pkl'\n",
    "            conv = converter.from_pickle(path)\n",
    "            df = conv.generate_output_df()\n",
    "            \n",
    "            output_path = BASE_DRIVE_PATH + BERNARD_PATH + f'parameterised/csv/wing_pos_analysis/Bernard_parameterised_{frequency_name}_{pol}_{wing_pos}_{scale}_{morpho}_p0_s0_df.csv'\n",
    "            df.to_csv(output_path)\n",
    "            data_dict[pol][wing_pos] = df"
   ]
  },
  {
   "cell_type": "code",
   "execution_count": 26,
   "metadata": {},
   "outputs": [],
   "source": [
    "df_bernard = data_dict['H']['U']"
   ]
  },
  {
   "cell_type": "code",
   "execution_count": 13,
   "metadata": {},
   "outputs": [],
   "source": [
    "for pol in pol_list:\n",
    "            path = BASE_DRIVE_PATH + ELLIPSOID_PATH + f'parameterised/dict/Ellipsoid_parameterised_{frequency_name}_{pol}_{scale}_p0_s0_dict.pkl'\n",
    "            conv = converter.from_pickle(path)\n",
    "            df = conv.generate_output_df()\n",
    "            \n",
    "            output_path = BASE_DRIVE_PATH + ELLIPSOID_PATH + f'parameterised/csv/Ellipsoid_parameterised_{frequency_name}_{pol}_{scale}_p0_s0__df.csv'\n",
    "            df.to_csv(output_path)\n",
    "            ellipsoid_data_dict[pol] = df"
   ]
  },
  {
   "cell_type": "code",
   "execution_count": 14,
   "metadata": {},
   "outputs": [],
   "source": [
    "def get_horizontal_returned_phase(df):\n",
    "    horizontal_field = df['Ephi'].astype(complex).to_numpy()\n",
    "    phase = np.angle(horizontal_field) * 180 / np.pi\n",
    "    return phase\n",
    "\n",
    "def get_vertical_returned_phase(df):\n",
    "    vertical_field = df['Etheta'].astype(complex).to_numpy()\n",
    "    phase = np.angle(vertical_field) * 180 / np.pi\n",
    "    return phase\n",
    "\n",
    "def get_horizontal_returned_power(df):\n",
    "    horizontal_field = df['Ephi'].astype(complex).to_numpy()\n",
    "    power = np.abs(horizontal_field)**2\n",
    "    return power\n",
    "\n",
    "def get_vertical_returned_power(df):\n",
    "    vertical_field = df['Etheta'].astype(complex).to_numpy()\n",
    "    power = np.abs(vertical_field)**2\n",
    "    return power\n",
    "\n",
    "def get_linear_depol_ratio(df):\n",
    "    horizontal_power = get_horizontal_returned_power(df)\n",
    "    vertical_power = df['Etheta'].astype(complex).to_numpy()\n",
    "    vertical_power = np.abs(vertical_power)**2\n",
    "    depol_ratio = 10 * np.log10(vertical_power / horizontal_power)\n",
    "    return depol_ratio"
   ]
  },
  {
   "cell_type": "code",
   "execution_count": 16,
   "metadata": {},
   "outputs": [],
   "source": [
    "vars_list = ['HH_power', 'VV_power', 'Zdr', 'LDR', 'HH_phase', 'VV_phase', 'PhiDP']"
   ]
  },
  {
   "cell_type": "code",
   "execution_count": 29,
   "metadata": {},
   "outputs": [],
   "source": [
    "results_dict = {y : {z : None for z in vars_list} for y in wing_pos_list}\n",
    "\n",
    "\n",
    "for wing_pos in wing_pos_list: \n",
    "    results_dict[wing_pos]['HH_power'] = get_horizontal_returned_power(data_dict['H'][wing_pos])\n",
    "    results_dict[wing_pos]['VV_power'] = get_vertical_returned_power(data_dict['V'][wing_pos])\n",
    "    results_dict[wing_pos]['HH_phase'] = get_horizontal_returned_phase(data_dict['H'][wing_pos])\n",
    "    results_dict[wing_pos]['VV_phase'] = get_vertical_returned_phase(data_dict['V'][wing_pos])\n",
    "    results_dict[wing_pos]['LDR'] = get_linear_depol_ratio(data_dict['H'][wing_pos])\n",
    "\n",
    "    dp = DualPol(data_dict['H'][wing_pos], data_dict['V'][wing_pos], read_from_df=True)\n",
    "    dp._calculate_differential_reflectivity()\n",
    "    dp._calculate_differential_phase()\n",
    "\n",
    "    results_dict[wing_pos]['Zdr'] = dp.differential_reflectivity\n",
    "    results_dict[wing_pos]['PhiDP'] = dp.differential_phase\n"
   ]
  },
  {
   "cell_type": "markdown",
   "metadata": {},
   "source": [
    "#"
   ]
  },
  {
   "cell_type": "code",
   "execution_count": null,
   "metadata": {},
   "outputs": [],
   "source": []
  }
 ],
 "metadata": {
  "kernelspec": {
   "display_name": "WIPL_env",
   "language": "python",
   "name": "python3"
  },
  "language_info": {
   "codemirror_mode": {
    "name": "ipython",
    "version": 3
   },
   "file_extension": ".py",
   "mimetype": "text/x-python",
   "name": "python",
   "nbconvert_exporter": "python",
   "pygments_lexer": "ipython3",
   "version": "3.13.1"
  }
 },
 "nbformat": 4,
 "nbformat_minor": 2
}
