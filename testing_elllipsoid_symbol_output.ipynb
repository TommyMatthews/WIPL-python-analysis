{
 "cells": [
  {
   "cell_type": "markdown",
   "metadata": {},
   "source": [
    "## Reading a plotting output from new symbols run to see if symbols fix has worked"
   ]
  },
  {
   "cell_type": "code",
   "execution_count": 5,
   "metadata": {},
   "outputs": [],
   "source": [
    "import pandas as pd\n",
    "import numpy as np\n",
    "import matplotlib.pyplot as plt\n",
    "from WIPL_python_analysis.DictToSinglePolResults import OutputDictToSinglePolResultsConverter as converter"
   ]
  },
  {
   "cell_type": "code",
   "execution_count": 8,
   "metadata": {},
   "outputs": [],
   "source": [
    "def plot_corrected_rcs(df, title=None):\n",
    "    phi = df['phi']\n",
    "    corrected_rcs = df['Corrected_RCS']\n",
    "    \n",
    "    plt.figure(figsize=(8, 6))\n",
    "    plt.plot(phi, corrected_rcs, label='Corrected RCS')\n",
    "    plt.xlabel('Azimuth (degrees)')\n",
    "    plt.ylabel('Corrected RCS (cm^2)')\n",
    "\n",
    "    if title:\n",
    "        plt.title(title)\n",
    "\n",
    "    plt.legend()\n",
    "    plt.show()"
   ]
  },
  {
   "cell_type": "code",
   "execution_count": 1,
   "metadata": {},
   "outputs": [],
   "source": [
    "BASE_DRIVE_PATH = '/Users/sstk4353/Library/CloudStorage/GoogleDrive-thomas.matthews@ncas.ac.uk/My Drive/WIPL/Bernard_ellipsoid_comparison/Ellipsoid/symbol_test/'"
   ]
  },
  {
   "cell_type": "code",
   "execution_count": 3,
   "metadata": {},
   "outputs": [],
   "source": [
    "scale_list = ['0375', '1000']\n",
    "pol_list = ['H', 'V']"
   ]
  },
  {
   "cell_type": "code",
   "execution_count": 4,
   "metadata": {},
   "outputs": [],
   "source": [
    "results_dict = {x : {y : {} for y in pol_list} for x in scale_list}"
   ]
  },
  {
   "cell_type": "code",
   "execution_count": 20,
   "metadata": {},
   "outputs": [
    {
     "name": "stdout",
     "output_type": "stream",
     "text": [
      "Ellipsoid_0375_H_dict.pkl\n",
      "Ellipsoid_0375_V_dict.pkl\n",
      "Ellipsoid_1000_H_dict.pkl\n",
      "Ellipsoid_1000_V_dict.pkl\n"
     ]
    }
   ],
   "source": [
    "for scale in scale_list: \n",
    "    for pol in pol_list:\n",
    "        FILE_NAME = f\"Ellipsoid_{scale}_{pol}_dict.pkl\"\n",
    "        print(FILE_NAME)\n",
    "        path = BASE_DRIVE_PATH + FILE_NAME\n",
    "        conv = converter.from_pickle(path)\n",
    "        results_dict[scale][pol] = conv.generate_output_df().copy()\n",
    "\n",
    "        #output_path = BASE_DRIVE_PATH + f'Bernard/{scale}/' + f'{polarisation}_CSV/' + f'Bernard_0250_1000_V_027_no_leg_wing_df.csv'\n",
    "\n",
    "        #B_0250_no_leg_wing_df.to_csv(output_path)"
   ]
  },
  {
   "cell_type": "code",
   "execution_count": 21,
   "metadata": {},
   "outputs": [
    {
     "name": "stdout",
     "output_type": "stream",
     "text": [
      "0.000880749298091879\n",
      "0.000880749298091879\n",
      "0.000880749298091879\n",
      "0.000880749298091879\n"
     ]
    }
   ],
   "source": [
    "for scale in scale_list: \n",
    "    for pol in pol_list:\n",
    "        print(results_dict[scale][pol]['Re_Ephi'].iloc[0])\n",
    "        #plot_corrected_rcs(results_dict[scale][pol], title=f'{scale} {pol} Corrected RCS')"
   ]
  },
  {
   "cell_type": "code",
   "execution_count": null,
   "metadata": {},
   "outputs": [],
   "source": []
  }
 ],
 "metadata": {
  "kernelspec": {
   "display_name": "WIPL_env",
   "language": "python",
   "name": "python3"
  },
  "language_info": {
   "codemirror_mode": {
    "name": "ipython",
    "version": 3
   },
   "file_extension": ".py",
   "mimetype": "text/x-python",
   "name": "python",
   "nbconvert_exporter": "python",
   "pygments_lexer": "ipython3",
   "version": "3.13.1"
  }
 },
 "nbformat": 4,
 "nbformat_minor": 2
}
