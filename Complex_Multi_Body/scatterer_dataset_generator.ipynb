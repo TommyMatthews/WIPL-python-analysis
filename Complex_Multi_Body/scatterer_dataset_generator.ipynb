{
 "cells": [
  {
   "cell_type": "markdown",
   "id": "87e1750c",
   "metadata": {},
   "source": [
    "## Notebook to generate and update scatterer dataset"
   ]
  },
  {
   "cell_type": "code",
   "execution_count": 24,
   "id": "4a59dd38",
   "metadata": {},
   "outputs": [],
   "source": [
    "import sys\n",
    "sys.path.append('/Users/sstk4353/packages/.')\n",
    "\n",
    "from WIPL_python_analysis.SinglePolPlots import SinglePolPlots\n",
    "from WIPL_python_analysis.DualPol import DualPol\n",
    "from WIPL_python_analysis.DictToSinglePolResults import OutputDictToSinglePolResultsConverter as converter\n",
    "import WIPL_python_analysis.helper_functions as hf\n",
    "import sys\n",
    "import pickle\n",
    "import numpy as np\n",
    "import pandas as pd\n",
    "import matplotlib.pyplot as plt\n",
    "import xarray as xr\n",
    "\n",
    "sys.path.append('./')"
   ]
  },
  {
   "cell_type": "markdown",
   "id": "2fab74b1",
   "metadata": {},
   "source": [
    "### Processing WIPL runs for 0.5 degrees 0-25 pitch angles"
   ]
  },
  {
   "cell_type": "code",
   "execution_count": 1,
   "id": "731ba9be",
   "metadata": {},
   "outputs": [],
   "source": [
    "BASE_DRIVE_PATH = '/Users/sstk4353/Library/CloudStorage/GoogleDrive-thomas.matthews@ncas.ac.uk/My Drive/WIPL/Bernard_ellipsoid_comparison/'"
   ]
  },
  {
   "cell_type": "code",
   "execution_count": 7,
   "id": "786d1d73",
   "metadata": {},
   "outputs": [],
   "source": [
    "BERNARD_PATH = 'Bernard/'\n",
    "ELLIPSOID_COMPARISON = 'Ellipsoid/'"
   ]
  },
  {
   "cell_type": "code",
   "execution_count": 15,
   "id": "03783cad",
   "metadata": {},
   "outputs": [],
   "source": [
    "pol_list = ['H', 'V']\n",
    "size_list = ['0553', '1000']\n",
    "pitch_list = list(range(0,26))\n",
    "slant = 0.5\n",
    "slant_name = '05'\n"
   ]
  },
  {
   "cell_type": "code",
   "execution_count": 18,
   "id": "75861dfd",
   "metadata": {},
   "outputs": [],
   "source": [
    "pitch_result_dict = {x : {s: {y : None for y in pitch_list} for s in size_list}for x in pol_list}"
   ]
  },
  {
   "cell_type": "code",
   "execution_count": 20,
   "id": "d0e5006d",
   "metadata": {},
   "outputs": [],
   "source": [
    "for pol in pol_list:\n",
    "    for size in size_list:\n",
    "        for pitch in pitch_list:\n",
    "            path = BASE_DRIVE_PATH + BERNARD_PATH + f'parameterised/dict/body_pitch_sweep/Bernard_parameterised_560_{pol}_M_{size}_body_p{pitch}_s05_dict.pkl'\n",
    "            conv = converter.from_pickle(path)\n",
    "            df = conv.generate_output_df()\n",
    "            \n",
    "            output_path = BASE_DRIVE_PATH + BERNARD_PATH + f'parameterised/csv/body_pitch_sweep/Bernard_parameterised_560_{pol}_M_{size}_body_p{pitch}_s05_df.csv'\n",
    "            df.to_csv(output_path)\n",
    "            pitch_result_dict[pol][size][pitch] = df"
   ]
  },
  {
   "cell_type": "markdown",
   "id": "e6a3e6af",
   "metadata": {},
   "source": [
    "### Generate xarray dataset"
   ]
  },
  {
   "cell_type": "code",
   "execution_count": 45,
   "id": "6fefc224",
   "metadata": {},
   "outputs": [
    {
     "name": "stdout",
     "output_type": "stream",
     "text": [
      "<xarray.Dataset> Size: 601kB\n",
      "Dimensions:  (name: 1, size: 2, pitch: 26, slant: 1, phi: 180)\n",
      "Coordinates:\n",
      "  * name     (name) <U6 24B 'Xxanth'\n",
      "  * size     (size) int64 16B 9 17\n",
      "  * slant    (slant) float64 8B 0.5\n",
      "  * pitch    (pitch) int64 208B 0 1 2 3 4 5 6 7 8 ... 17 18 19 20 21 22 23 24 25\n",
      "  * phi      (phi) int64 1kB 0 2 4 6 8 10 12 14 ... 346 348 350 352 354 356 358\n",
      "Data variables:\n",
      "    H_H_r    (name, size, pitch, slant, phi) float64 75kB nan nan ... nan nan\n",
      "    H_H_i    (name, size, pitch, slant, phi) float64 75kB nan nan ... nan nan\n",
      "    H_V_r    (name, size, pitch, slant, phi) float64 75kB nan nan ... nan nan\n",
      "    H_V_i    (name, size, pitch, slant, phi) float64 75kB nan nan ... nan nan\n",
      "    V_H_r    (name, size, pitch, slant, phi) float64 75kB nan nan ... nan nan\n",
      "    V_H_i    (name, size, pitch, slant, phi) float64 75kB nan nan ... nan nan\n",
      "    V_V_r    (name, size, pitch, slant, phi) float64 75kB nan nan ... nan nan\n",
      "    V_V_i    (name, size, pitch, slant, phi) float64 75kB nan nan ... nan nan\n"
     ]
    }
   ],
   "source": [
    "phi = np.arange(0, 360, 2)  # 0 to 358 in steps of 2 (180 points)\n",
    "names = ['Xxanth']\n",
    "sizes = [9, 17]\n",
    "slants = [0.5]\n",
    "pitches = list(range(26))  # 0 to 25\n",
    "\n",
    "# Define scattering patterns\n",
    "scattering_patterns = ['H_H_r', 'H_H_i', 'H_V_r', 'H_V_i', 'V_H_r', 'V_H_i', 'V_V_r', 'V_V_i']\n",
    "\n",
    "# Create the dataset with NaNs as placeholders\n",
    "data_vars = {\n",
    "    pattern: (['name', 'size', 'pitch','slant', 'phi'], \n",
    "              np.full((len(names), len(sizes), len(pitches), len(slants), len(phi)), np.nan))\n",
    "    for pattern in scattering_patterns\n",
    "}\n",
    "\n",
    "# Create coordinates\n",
    "coords = {\n",
    "    'name': names,\n",
    "    'size': sizes,\n",
    "    'slant': slants,\n",
    "    'pitch': pitches,\n",
    "    'phi': phi\n",
    "}\n",
    "\n",
    "# Create the xarray Dataset\n",
    "ds = xr.Dataset(data_vars=data_vars, coords=coords)\n",
    "\n",
    "# Optional: print summary\n",
    "print(ds)"
   ]
  },
  {
   "cell_type": "code",
   "execution_count": 48,
   "id": "2216ee78",
   "metadata": {},
   "outputs": [],
   "source": [
    "name = 'Xxanth'\n",
    "slant = 0.5\n",
    "phi = np.arange(0,360,2)  # 0 to 358 in steps of 2 (180 points)\n",
    "\n",
    "for pol in pol_list:\n",
    "    for size, length in zip(size_list, [9,17]):\n",
    "        for pitch in pitch_list:\n",
    "            phi_res = pd.Series(pitch_result_dict[pol][size][pitch]['Ephi'][:-1], index = phi)\n",
    "            theta_res = pd.Series(pitch_result_dict[pol][size][pitch]['Etheta'][:-1], index = phi)\n",
    "            \n",
    "            ds[f'{pol}_H_r'].loc[dict(name=name, size=length, pitch=pitch, slant=slant)] = np.real(phi_res)\n",
    "            ds[f'{pol}_H_i'].loc[dict(name=name, size=length, pitch=pitch, slant=slant)] = np.imag(phi_res)\n",
    "            ds[f'{pol}_V_r'].loc[dict(name=name, size=length, pitch=pitch, slant=slant)] = np.real(theta_res)\n",
    "            ds[f'{pol}_V_i'].loc[dict(name=name, size=length, pitch=pitch, slant=slant)] = np.imag(theta_res)\n"
   ]
  },
  {
   "cell_type": "code",
   "execution_count": 52,
   "id": "8acdd934",
   "metadata": {},
   "outputs": [],
   "source": [
    "ds.to_netcdf('bioscatterer_database_v0.001.nc')"
   ]
  },
  {
   "cell_type": "code",
   "execution_count": null,
   "id": "aca949df",
   "metadata": {},
   "outputs": [],
   "source": []
  }
 ],
 "metadata": {
  "kernelspec": {
   "display_name": "WIPL_env2",
   "language": "python",
   "name": "python3"
  },
  "language_info": {
   "codemirror_mode": {
    "name": "ipython",
    "version": 3
   },
   "file_extension": ".py",
   "mimetype": "text/x-python",
   "name": "python",
   "nbconvert_exporter": "python",
   "pygments_lexer": "ipython3",
   "version": "3.13.2"
  }
 },
 "nbformat": 4,
 "nbformat_minor": 5
}
