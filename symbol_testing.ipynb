{
 "cells": [
  {
   "cell_type": "markdown",
   "metadata": {},
   "source": [
    "# Debugging symbols not working"
   ]
  },
  {
   "cell_type": "code",
   "execution_count": 1,
   "metadata": {},
   "outputs": [],
   "source": [
    "from WIPL_python_analysis.SinglePolPlots import SinglePolPlots\n",
    "from WIPL_python_analysis.DualPol import DualPol\n",
    "from WIPL_python_analysis.DictToSinglePolResults import OutputDictToSinglePolResultsConverter as converter\n",
    "import sys\n",
    "import pickle\n",
    "import numpy as np\n",
    "import pandas as pd\n",
    "import matplotlib.pyplot as plt\n",
    "\n",
    "sys.path.append('./')"
   ]
  },
  {
   "cell_type": "code",
   "execution_count": 4,
   "metadata": {},
   "outputs": [],
   "source": [
    "BASE_DRIVE_PATH = '/Users/sstk4353/Library/CloudStorage/GoogleDrive-thomas.matthews@ncas.ac.uk/My Drive/WIPL/symbol_testing/'"
   ]
  },
  {
   "cell_type": "code",
   "execution_count": 21,
   "metadata": {},
   "outputs": [],
   "source": [
    "H_0375_path = 'Ellipsoid_0375_sweep_H_1_60_20_dict.pkl'\n",
    "V_0375_path = 'Ellipsoid_0375_sweep_V_1_60_20_dict.pkl'\n",
    "H_1000_path = 'Ellipsoid_1000_sweep_H_1_60_20_dict.pkl'\n",
    "V_1000_path = 'Ellipsoid_1000_sweep_V_1_60_20_dict.pkl'"
   ]
  },
  {
   "cell_type": "code",
   "execution_count": 23,
   "metadata": {},
   "outputs": [],
   "source": [
    "convH3 = converter.from_pickle(BASE_DRIVE_PATH + H_0375_path)\n",
    "convV3 = converter.from_pickle(BASE_DRIVE_PATH + V_0375_path)\n",
    "convH10 = converter.from_pickle(BASE_DRIVE_PATH + H_1000_path)\n",
    "convV10 = converter.from_pickle(BASE_DRIVE_PATH + V_1000_path)"
   ]
  },
  {
   "cell_type": "code",
   "execution_count": 24,
   "metadata": {},
   "outputs": [
    {
     "data": {
      "text/html": [
       "<div>\n",
       "<style scoped>\n",
       "    .dataframe tbody tr th:only-of-type {\n",
       "        vertical-align: middle;\n",
       "    }\n",
       "\n",
       "    .dataframe tbody tr th {\n",
       "        vertical-align: top;\n",
       "    }\n",
       "\n",
       "    .dataframe thead th {\n",
       "        text-align: right;\n",
       "    }\n",
       "</style>\n",
       "<table border=\"1\" class=\"dataframe\">\n",
       "  <thead>\n",
       "    <tr style=\"text-align: right;\">\n",
       "      <th></th>\n",
       "      <th>phi</th>\n",
       "      <th>Re_Ephi</th>\n",
       "      <th>Im_Ephi</th>\n",
       "      <th>Re_Etheta</th>\n",
       "      <th>Im_Etheta</th>\n",
       "      <th>Total_RCS</th>\n",
       "      <th>Ephi</th>\n",
       "      <th>Etheta</th>\n",
       "      <th>Corrected_RCS</th>\n",
       "    </tr>\n",
       "  </thead>\n",
       "  <tbody>\n",
       "    <tr>\n",
       "      <th>0</th>\n",
       "      <td>90.0</td>\n",
       "      <td>0.000328</td>\n",
       "      <td>-0.000053</td>\n",
       "      <td>-2.761805e-11</td>\n",
       "      <td>5.088511e-11</td>\n",
       "      <td>0.001248</td>\n",
       "      <td>0.000328-0.000053j</td>\n",
       "      <td>-2.761805e-11+5.088511e-                    11j</td>\n",
       "      <td>0.013865</td>\n",
       "    </tr>\n",
       "  </tbody>\n",
       "</table>\n",
       "</div>"
      ],
      "text/plain": [
       "    phi   Re_Ephi   Im_Ephi     Re_Etheta     Im_Etheta  Total_RCS  \\\n",
       "0  90.0  0.000328 -0.000053 -2.761805e-11  5.088511e-11   0.001248   \n",
       "\n",
       "                 Ephi                                          Etheta  \\\n",
       "0  0.000328-0.000053j -2.761805e-11+5.088511e-                    11j   \n",
       "\n",
       "   Corrected_RCS  \n",
       "0       0.013865  "
      ]
     },
     "execution_count": 24,
     "metadata": {},
     "output_type": "execute_result"
    }
   ],
   "source": [
    "convH3.generate_output_df().head()\n"
   ]
  },
  {
   "cell_type": "code",
   "execution_count": 25,
   "metadata": {},
   "outputs": [
    {
     "data": {
      "text/html": [
       "<div>\n",
       "<style scoped>\n",
       "    .dataframe tbody tr th:only-of-type {\n",
       "        vertical-align: middle;\n",
       "    }\n",
       "\n",
       "    .dataframe tbody tr th {\n",
       "        vertical-align: top;\n",
       "    }\n",
       "\n",
       "    .dataframe thead th {\n",
       "        text-align: right;\n",
       "    }\n",
       "</style>\n",
       "<table border=\"1\" class=\"dataframe\">\n",
       "  <thead>\n",
       "    <tr style=\"text-align: right;\">\n",
       "      <th></th>\n",
       "      <th>phi</th>\n",
       "      <th>Re_Ephi</th>\n",
       "      <th>Im_Ephi</th>\n",
       "      <th>Re_Etheta</th>\n",
       "      <th>Im_Etheta</th>\n",
       "      <th>Total_RCS</th>\n",
       "      <th>Ephi</th>\n",
       "      <th>Etheta</th>\n",
       "      <th>Corrected_RCS</th>\n",
       "    </tr>\n",
       "  </thead>\n",
       "  <tbody>\n",
       "    <tr>\n",
       "      <th>0</th>\n",
       "      <td>90.0</td>\n",
       "      <td>0.000328</td>\n",
       "      <td>-0.000053</td>\n",
       "      <td>-2.761805e-11</td>\n",
       "      <td>5.088511e-11</td>\n",
       "      <td>0.001248</td>\n",
       "      <td>0.000328-0.000053j</td>\n",
       "      <td>-2.761805e-11+5.088511e-                    11j</td>\n",
       "      <td>0.013865</td>\n",
       "    </tr>\n",
       "  </tbody>\n",
       "</table>\n",
       "</div>"
      ],
      "text/plain": [
       "    phi   Re_Ephi   Im_Ephi     Re_Etheta     Im_Etheta  Total_RCS  \\\n",
       "0  90.0  0.000328 -0.000053 -2.761805e-11  5.088511e-11   0.001248   \n",
       "\n",
       "                 Ephi                                          Etheta  \\\n",
       "0  0.000328-0.000053j -2.761805e-11+5.088511e-                    11j   \n",
       "\n",
       "   Corrected_RCS  \n",
       "0       0.013865  "
      ]
     },
     "execution_count": 25,
     "metadata": {},
     "output_type": "execute_result"
    }
   ],
   "source": [
    "convV3.generate_output_df().head()"
   ]
  },
  {
   "cell_type": "code",
   "execution_count": 26,
   "metadata": {},
   "outputs": [
    {
     "data": {
      "text/html": [
       "<div>\n",
       "<style scoped>\n",
       "    .dataframe tbody tr th:only-of-type {\n",
       "        vertical-align: middle;\n",
       "    }\n",
       "\n",
       "    .dataframe tbody tr th {\n",
       "        vertical-align: top;\n",
       "    }\n",
       "\n",
       "    .dataframe thead th {\n",
       "        text-align: right;\n",
       "    }\n",
       "</style>\n",
       "<table border=\"1\" class=\"dataframe\">\n",
       "  <thead>\n",
       "    <tr style=\"text-align: right;\">\n",
       "      <th></th>\n",
       "      <th>phi</th>\n",
       "      <th>Re_Ephi</th>\n",
       "      <th>Im_Ephi</th>\n",
       "      <th>Re_Etheta</th>\n",
       "      <th>Im_Etheta</th>\n",
       "      <th>Total_RCS</th>\n",
       "      <th>Ephi</th>\n",
       "      <th>Etheta</th>\n",
       "      <th>Corrected_RCS</th>\n",
       "    </tr>\n",
       "  </thead>\n",
       "  <tbody>\n",
       "    <tr>\n",
       "      <th>0</th>\n",
       "      <td>90.0</td>\n",
       "      <td>0.000328</td>\n",
       "      <td>-0.000053</td>\n",
       "      <td>-2.761805e-11</td>\n",
       "      <td>5.088511e-11</td>\n",
       "      <td>0.001248</td>\n",
       "      <td>0.000328-0.000053j</td>\n",
       "      <td>-2.761805e-11+5.088511e-                    11j</td>\n",
       "      <td>0.013865</td>\n",
       "    </tr>\n",
       "  </tbody>\n",
       "</table>\n",
       "</div>"
      ],
      "text/plain": [
       "    phi   Re_Ephi   Im_Ephi     Re_Etheta     Im_Etheta  Total_RCS  \\\n",
       "0  90.0  0.000328 -0.000053 -2.761805e-11  5.088511e-11   0.001248   \n",
       "\n",
       "                 Ephi                                          Etheta  \\\n",
       "0  0.000328-0.000053j -2.761805e-11+5.088511e-                    11j   \n",
       "\n",
       "   Corrected_RCS  \n",
       "0       0.013865  "
      ]
     },
     "execution_count": 26,
     "metadata": {},
     "output_type": "execute_result"
    }
   ],
   "source": [
    "convH10.generate_output_df().head()"
   ]
  },
  {
   "cell_type": "code",
   "execution_count": 27,
   "metadata": {},
   "outputs": [
    {
     "data": {
      "text/html": [
       "<div>\n",
       "<style scoped>\n",
       "    .dataframe tbody tr th:only-of-type {\n",
       "        vertical-align: middle;\n",
       "    }\n",
       "\n",
       "    .dataframe tbody tr th {\n",
       "        vertical-align: top;\n",
       "    }\n",
       "\n",
       "    .dataframe thead th {\n",
       "        text-align: right;\n",
       "    }\n",
       "</style>\n",
       "<table border=\"1\" class=\"dataframe\">\n",
       "  <thead>\n",
       "    <tr style=\"text-align: right;\">\n",
       "      <th></th>\n",
       "      <th>phi</th>\n",
       "      <th>Re_Ephi</th>\n",
       "      <th>Im_Ephi</th>\n",
       "      <th>Re_Etheta</th>\n",
       "      <th>Im_Etheta</th>\n",
       "      <th>Total_RCS</th>\n",
       "      <th>Ephi</th>\n",
       "      <th>Etheta</th>\n",
       "      <th>Corrected_RCS</th>\n",
       "    </tr>\n",
       "  </thead>\n",
       "  <tbody>\n",
       "    <tr>\n",
       "      <th>0</th>\n",
       "      <td>90.0</td>\n",
       "      <td>0.000328</td>\n",
       "      <td>-0.000053</td>\n",
       "      <td>-2.761805e-11</td>\n",
       "      <td>5.088511e-11</td>\n",
       "      <td>0.001248</td>\n",
       "      <td>0.000328-0.000053j</td>\n",
       "      <td>-2.761805e-11+5.088511e-                    11j</td>\n",
       "      <td>0.013865</td>\n",
       "    </tr>\n",
       "  </tbody>\n",
       "</table>\n",
       "</div>"
      ],
      "text/plain": [
       "    phi   Re_Ephi   Im_Ephi     Re_Etheta     Im_Etheta  Total_RCS  \\\n",
       "0  90.0  0.000328 -0.000053 -2.761805e-11  5.088511e-11   0.001248   \n",
       "\n",
       "                 Ephi                                          Etheta  \\\n",
       "0  0.000328-0.000053j -2.761805e-11+5.088511e-                    11j   \n",
       "\n",
       "   Corrected_RCS  \n",
       "0       0.013865  "
      ]
     },
     "execution_count": 27,
     "metadata": {},
     "output_type": "execute_result"
    }
   ],
   "source": [
    "convV10.generate_output_df().head()"
   ]
  },
  {
   "cell_type": "markdown",
   "metadata": {},
   "source": []
  },
  {
   "cell_type": "markdown",
   "metadata": {},
   "source": []
  }
 ],
 "metadata": {
  "kernelspec": {
   "display_name": "WIPL_env",
   "language": "python",
   "name": "python3"
  },
  "language_info": {
   "codemirror_mode": {
    "name": "ipython",
    "version": 3
   },
   "file_extension": ".py",
   "mimetype": "text/x-python",
   "name": "python",
   "nbconvert_exporter": "python",
   "pygments_lexer": "ipython3",
   "version": "3.13.1"
  }
 },
 "nbformat": 4,
 "nbformat_minor": 2
}
